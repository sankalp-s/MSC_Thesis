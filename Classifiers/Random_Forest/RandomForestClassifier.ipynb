{
  "nbformat": 4,
  "nbformat_minor": 0,
  "metadata": {
    "colab": {
      "provenance": [],
      "gpuType": "T4"
    },
    "kernelspec": {
      "name": "python3",
      "display_name": "Python 3"
    },
    "language_info": {
      "name": "python"
    },
    "accelerator": "GPU"
  },
  "cells": [
    {
      "cell_type": "code",
      "execution_count": 4,
      "metadata": {
        "id": "E4ub4DKWPnzO"
      },
      "outputs": [],
      "source": [
        "import os\n",
        "import numpy as np\n",
        "import pandas as pd\n",
        "import matplotlib.pyplot as plt\n",
        "import seaborn as sns"
      ]
    },
    {
      "cell_type": "code",
      "source": [
        "from google.colab import drive\n",
        "drive.mount('/content/drive')"
      ],
      "metadata": {
        "colab": {
          "base_uri": "https://localhost:8080/"
        },
        "id": "zN2m-yuDPsFn",
        "outputId": "ee2e3bfa-6c60-4cfa-e409-e266f13f3140"
      },
      "execution_count": 5,
      "outputs": [
        {
          "output_type": "stream",
          "name": "stdout",
          "text": [
            "Mounted at /content/drive\n"
          ]
        }
      ]
    },
    {
      "cell_type": "code",
      "source": [
        "# Import necessary libraries\n",
        "from sklearn.model_selection import train_test_split\n",
        "from sklearn.ensemble import RandomForestClassifier\n",
        "from sklearn.metrics import accuracy_score, classification_report"
      ],
      "metadata": {
        "id": "sWWUlM3GRUo1"
      },
      "execution_count": 6,
      "outputs": []
    },
    {
      "cell_type": "code",
      "source": [
        "data = np.load(\"/content/drive/My Drive/Thesis_data/Master_integer.npy\",allow_pickle=True)"
      ],
      "metadata": {
        "id": "0SDObslxRYB_"
      },
      "execution_count": 7,
      "outputs": []
    },
    {
      "cell_type": "code",
      "source": [
        "print(data.shape)"
      ],
      "metadata": {
        "colab": {
          "base_uri": "https://localhost:8080/"
        },
        "id": "XKWwKVYhLHME",
        "outputId": "e4564e2f-ba39-431f-f3f3-7c74d7c11404"
      },
      "execution_count": 8,
      "outputs": [
        {
          "output_type": "stream",
          "name": "stdout",
          "text": [
            "(120224, 170)\n"
          ]
        }
      ]
    },
    {
      "cell_type": "code",
      "source": [
        "X = data[:, :-1]  # Features are all columns except the last one\n",
        "y = data[:, -1]   # Target variable is the last column\n",
        "\n",
        "# Split the dataset into training and testing sets\n",
        "X_train, X_test, y_train, y_test = train_test_split(X, y, test_size=0.2, random_state=42)\n"
      ],
      "metadata": {
        "id": "lEhDyH4wRdkf"
      },
      "execution_count": 9,
      "outputs": []
    },
    {
      "cell_type": "code",
      "source": [
        "# Initialize the RandomForestClassifier\n",
        "model = RandomForestClassifier()\n",
        "\n",
        "# Train the model\n",
        "model.fit(X_train, y_train)\n",
        "\n",
        "# Make predictions\n",
        "y_pred = model.predict(X_test)\n",
        "\n",
        "# Evaluate the model\n",
        "accuracy = accuracy_score(y_test, y_pred)\n",
        "print(\"Accuracy:\", accuracy)\n",
        "\n",
        "# Print classification report\n",
        "print(classification_report(y_test, y_pred))"
      ],
      "metadata": {
        "colab": {
          "base_uri": "https://localhost:8080/"
        },
        "id": "FY1Cr1NTRhjX",
        "outputId": "e9919dd6-8f04-4426-f3c9-d827e38db070"
      },
      "execution_count": 10,
      "outputs": [
        {
          "output_type": "stream",
          "name": "stdout",
          "text": [
            "Accuracy: 0.7690996049074652\n",
            "              precision    recall  f1-score   support\n",
            "\n",
            "           0       0.70      0.43      0.54      2043\n",
            "           8       0.42      0.30      0.35        33\n",
            "          16       0.78      0.96      0.86     15810\n",
            "          24       0.64      0.26      0.37      1330\n",
            "          32       0.68      0.34      0.46      1512\n",
            "          40       0.68      0.34      0.45       155\n",
            "          48       0.50      0.09      0.15        11\n",
            "          56       0.00      0.00      0.00         1\n",
            "          64       0.91      0.92      0.91       538\n",
            "          80       0.00      0.00      0.00        24\n",
            "         144       0.00      0.00      0.00         3\n",
            "        2048       0.00      0.00      0.00        10\n",
            "        2064       0.75      0.45      0.56      2343\n",
            "        2080       0.76      0.13      0.22       228\n",
            "        2096       0.00      0.00      0.00         4\n",
            "\n",
            "    accuracy                           0.77     24045\n",
            "   macro avg       0.45      0.28      0.33     24045\n",
            "weighted avg       0.76      0.77      0.74     24045\n",
            "\n"
          ]
        },
        {
          "output_type": "stream",
          "name": "stderr",
          "text": [
            "/usr/local/lib/python3.10/dist-packages/sklearn/metrics/_classification.py:1344: UndefinedMetricWarning: Precision and F-score are ill-defined and being set to 0.0 in labels with no predicted samples. Use `zero_division` parameter to control this behavior.\n",
            "  _warn_prf(average, modifier, msg_start, len(result))\n",
            "/usr/local/lib/python3.10/dist-packages/sklearn/metrics/_classification.py:1344: UndefinedMetricWarning: Precision and F-score are ill-defined and being set to 0.0 in labels with no predicted samples. Use `zero_division` parameter to control this behavior.\n",
            "  _warn_prf(average, modifier, msg_start, len(result))\n",
            "/usr/local/lib/python3.10/dist-packages/sklearn/metrics/_classification.py:1344: UndefinedMetricWarning: Precision and F-score are ill-defined and being set to 0.0 in labels with no predicted samples. Use `zero_division` parameter to control this behavior.\n",
            "  _warn_prf(average, modifier, msg_start, len(result))\n"
          ]
        }
      ]
    },
    {
      "cell_type": "code",
      "source": [
        "import joblib\n",
        "\n",
        "# Save the trained model\n",
        "joblib.dump(model, '/content/drive/My Drive/Thesis_data/random_forest_model.pkl')"
      ],
      "metadata": {
        "colab": {
          "base_uri": "https://localhost:8080/"
        },
        "id": "I5aymksuNBK3",
        "outputId": "0a6a0f4d-f90f-471b-c612-5f13d4d8b1e7"
      },
      "execution_count": null,
      "outputs": [
        {
          "output_type": "execute_result",
          "data": {
            "text/plain": [
              "['/content/drive/My Drive/Thesis_data/random_forest_model.pkl']"
            ]
          },
          "metadata": {},
          "execution_count": 14
        }
      ]
    },
    {
      "cell_type": "code",
      "source": [
        "print(X_test.shape)\n",
        "print(y_pred.shape)"
      ],
      "metadata": {
        "colab": {
          "base_uri": "https://localhost:8080/"
        },
        "id": "8dd7MRLPOsZo",
        "outputId": "2845293c-e8a8-4e6a-e561-b8c9667caf12"
      },
      "execution_count": 11,
      "outputs": [
        {
          "output_type": "stream",
          "name": "stdout",
          "text": [
            "(24045, 169)\n",
            "(24045,)\n"
          ]
        }
      ]
    },
    {
      "cell_type": "code",
      "source": [
        "print(y_pred[0])"
      ],
      "metadata": {
        "colab": {
          "base_uri": "https://localhost:8080/"
        },
        "id": "f3MDAykwPeMH",
        "outputId": "d9ee7344-4b8f-4eb2-89f6-43c41f2e5558"
      },
      "execution_count": 12,
      "outputs": [
        {
          "output_type": "stream",
          "name": "stdout",
          "text": [
            "16\n"
          ]
        }
      ]
    },
    {
      "cell_type": "code",
      "source": [
        "def integer_to_binary_array(integer_value, array_length):\n",
        "    \"\"\"\n",
        "    Convert an integer to a binary array of specified length.\n",
        "    Parameters:\n",
        "        integer_value (int): The integer value to be converted.\n",
        "        array_length (int): The desired length of the binary array.\n",
        "    Returns:\n",
        "        list: The binary array representing the integer value.\n",
        "    \"\"\"\n",
        "    binary_string = format(integer_value, 'b')  # Convert integer to binary string\n",
        "    binary_array = [int(bit) for bit in binary_string.zfill(array_length)]  # Pad with leading zeros if needed\n",
        "    return binary_array\n",
        "\n",
        "def convert_integers_to_binary_arrays(data):\n",
        "    \"\"\"\n",
        "    Convert integer values in the dataset back to binary arrays.\n",
        "    Parameters:\n",
        "        data (numpy.ndarray): The dataset containing integer values.\n",
        "    Returns:\n",
        "        numpy.ndarray: The dataset with integer values converted back to binary arrays.\n",
        "    \"\"\"\n",
        "    binary_arrays_list = []\n",
        "    for integer in data:\n",
        "        binary_array = integer_to_binary_array(integer, array_length=12)  # Adjust array_length as needed\n",
        "        binary_arrays_list.append(binary_array)\n",
        "    return np.array(binary_arrays_list)\n",
        "\n",
        "# Convert integer values back to binary arrays\n",
        "action_data = convert_integers_to_binary_arrays(y_pred)\n"
      ],
      "metadata": {
        "id": "H6R-4FXUXQlm"
      },
      "execution_count": 16,
      "outputs": []
    },
    {
      "cell_type": "code",
      "source": [
        "print(action_data.shape)\n",
        "print()"
      ],
      "metadata": {
        "colab": {
          "base_uri": "https://localhost:8080/"
        },
        "id": "PzpXV5X7Zbpk",
        "outputId": "b606968f-662f-4265-b921-23ab9e2a1456"
      },
      "execution_count": 17,
      "outputs": [
        {
          "output_type": "stream",
          "name": "stdout",
          "text": [
            "(24045, 12)\n",
            "\n"
          ]
        }
      ]
    }
  ]
}