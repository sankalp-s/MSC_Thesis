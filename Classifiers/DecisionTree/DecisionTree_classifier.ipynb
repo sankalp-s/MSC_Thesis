{
  "nbformat": 4,
  "nbformat_minor": 0,
  "metadata": {
    "colab": {
      "provenance": []
    },
    "kernelspec": {
      "name": "python3",
      "display_name": "Python 3"
    },
    "language_info": {
      "name": "python"
    }
  },
  "cells": [
    {
      "cell_type": "code",
      "execution_count": 3,
      "metadata": {
        "id": "tq94RCsWgbsP"
      },
      "outputs": [],
      "source": [
        "import numpy as np\n",
        "from sklearn.model_selection import train_test_split\n",
        "from sklearn.tree import DecisionTreeClassifier\n",
        "from sklearn.metrics import accuracy_score, classification_report\n",
        "import joblib"
      ]
    },
    {
      "cell_type": "code",
      "source": [
        "from google.colab import drive\n",
        "drive.mount('/content/drive')"
      ],
      "metadata": {
        "colab": {
          "base_uri": "https://localhost:8080/"
        },
        "id": "sbvFgGT7g_1E",
        "outputId": "e5d9afa0-7347-487b-8a3c-08d34dc40493"
      },
      "execution_count": 2,
      "outputs": [
        {
          "output_type": "stream",
          "name": "stdout",
          "text": [
            "Mounted at /content/drive\n"
          ]
        }
      ]
    },
    {
      "cell_type": "code",
      "source": [
        "# Load the dataset\n",
        "data = np.load(\"/content/drive/My Drive/Thesis_data/Master_integer.npy\", allow_pickle=True)\n",
        "\n",
        "# Separate features and target variable\n",
        "X = data[:, :-1]\n",
        "y = data[:, -1]\n",
        "\n",
        "# Split the dataset into training, validation, and testing sets\n",
        "X_train, X_test, y_train, y_test = train_test_split(X, y, test_size=0.2, random_state=42)\n",
        "X_train, X_val, y_train, y_val = train_test_split(X_train, y_train, test_size=0.25, random_state=42)  # 0.25 x 0.8 = 0.2"
      ],
      "metadata": {
        "id": "UX2nPLRAhb2Y"
      },
      "execution_count": 5,
      "outputs": []
    },
    {
      "cell_type": "code",
      "source": [
        "print(data.shape)"
      ],
      "metadata": {
        "colab": {
          "base_uri": "https://localhost:8080/"
        },
        "id": "DgDjpDYXia_i",
        "outputId": "69d5f19c-9f05-494d-cd0e-873e9da2cee7"
      },
      "execution_count": 12,
      "outputs": [
        {
          "output_type": "stream",
          "name": "stdout",
          "text": [
            "(120224, 170)\n"
          ]
        }
      ]
    },
    {
      "cell_type": "code",
      "source": [
        "# Initialize the GradientBoostingClassifier\n",
        "model = DecisionTreeClassifier()\n",
        "\n",
        "# Train the model\n",
        "model.fit(X_train, y_train)\n",
        "\n",
        "# Make predictions on validation data\n",
        "val_predictions = model.predict(X_val)\n",
        "\n",
        "# Evaluate the model on validation data\n",
        "val_accuracy = accuracy_score(y_val, val_predictions)\n",
        "print(\"Validation Accuracy:\", val_accuracy)\n",
        "\n",
        "# Make predictions on test data\n",
        "test_predictions = model.predict(X_test)\n",
        "\n",
        "# Evaluate the model on test data\n",
        "test_accuracy = accuracy_score(y_test, test_predictions)\n",
        "print(\"Test Accuracy:\", test_accuracy)"
      ],
      "metadata": {
        "colab": {
          "base_uri": "https://localhost:8080/"
        },
        "id": "ueJ5Fvw6hetu",
        "outputId": "b66a158b-3350-45e7-d79c-a323b703ca6e"
      },
      "execution_count": 6,
      "outputs": [
        {
          "output_type": "stream",
          "name": "stdout",
          "text": [
            "Validation Accuracy: 0.7573715949261801\n",
            "Test Accuracy: 0.7664795175712207\n"
          ]
        }
      ]
    },
    {
      "cell_type": "code",
      "source": [
        "# Print classification report for test data\n",
        "print(classification_report(y_test, test_predictions))"
      ],
      "metadata": {
        "colab": {
          "base_uri": "https://localhost:8080/"
        },
        "id": "Ul6kG-6fho5z",
        "outputId": "b70a3e37-6e62-422c-b4e2-b658dbcb13e5"
      },
      "execution_count": 8,
      "outputs": [
        {
          "output_type": "stream",
          "name": "stdout",
          "text": [
            "              precision    recall  f1-score   support\n",
            "\n",
            "           0       0.67      0.44      0.53      2043\n",
            "           8       0.44      0.36      0.40        33\n",
            "          16       0.78      0.96      0.86     15810\n",
            "          24       0.63      0.26      0.37      1330\n",
            "          32       0.70      0.32      0.43      1512\n",
            "          40       0.63      0.33      0.43       155\n",
            "          48       0.25      0.09      0.13        11\n",
            "          56       0.00      0.00      0.00         1\n",
            "          64       0.91      0.92      0.92       538\n",
            "          80       0.00      0.00      0.00        24\n",
            "         144       0.00      0.00      0.00         3\n",
            "        2048       0.00      0.00      0.00        10\n",
            "        2064       0.77      0.43      0.55      2343\n",
            "        2080       0.74      0.13      0.22       228\n",
            "        2096       0.00      0.00      0.00         4\n",
            "\n",
            "    accuracy                           0.77     24045\n",
            "   macro avg       0.43      0.28      0.32     24045\n",
            "weighted avg       0.75      0.77      0.74     24045\n",
            "\n"
          ]
        },
        {
          "output_type": "stream",
          "name": "stderr",
          "text": [
            "/usr/local/lib/python3.10/dist-packages/sklearn/metrics/_classification.py:1344: UndefinedMetricWarning: Precision and F-score are ill-defined and being set to 0.0 in labels with no predicted samples. Use `zero_division` parameter to control this behavior.\n",
            "  _warn_prf(average, modifier, msg_start, len(result))\n",
            "/usr/local/lib/python3.10/dist-packages/sklearn/metrics/_classification.py:1344: UndefinedMetricWarning: Precision and F-score are ill-defined and being set to 0.0 in labels with no predicted samples. Use `zero_division` parameter to control this behavior.\n",
            "  _warn_prf(average, modifier, msg_start, len(result))\n",
            "/usr/local/lib/python3.10/dist-packages/sklearn/metrics/_classification.py:1344: UndefinedMetricWarning: Precision and F-score are ill-defined and being set to 0.0 in labels with no predicted samples. Use `zero_division` parameter to control this behavior.\n",
            "  _warn_prf(average, modifier, msg_start, len(result))\n"
          ]
        }
      ]
    },
    {
      "cell_type": "code",
      "source": [
        "import joblib\n",
        "\n",
        "# Save the trained model\n",
        "joblib.dump(model, '/content/drive/My Drive/Thesis_data/DecisionTree_model.pkl')"
      ],
      "metadata": {
        "colab": {
          "base_uri": "https://localhost:8080/"
        },
        "id": "xPrfkprwhsHR",
        "outputId": "e2e2d32e-fa13-42ab-c7c1-46b5d8301e9b"
      },
      "execution_count": 9,
      "outputs": [
        {
          "output_type": "execute_result",
          "data": {
            "text/plain": [
              "['/content/drive/My Drive/Thesis_data/DecisionTree_model.pkl']"
            ]
          },
          "metadata": {},
          "execution_count": 9
        }
      ]
    },
    {
      "cell_type": "code",
      "source": [
        "print(X_test.shape)\n",
        "print(test_predictions.shape)"
      ],
      "metadata": {
        "colab": {
          "base_uri": "https://localhost:8080/"
        },
        "id": "5LSqnA6ahxDu",
        "outputId": "e9efaf3b-da76-4a94-f6cb-4cbd5ba1336d"
      },
      "execution_count": 10,
      "outputs": [
        {
          "output_type": "stream",
          "name": "stdout",
          "text": [
            "(24045, 169)\n",
            "(24045,)\n"
          ]
        }
      ]
    },
    {
      "cell_type": "code",
      "source": [
        "# Extract unique integer labels\n",
        "original_labels = np.unique(y)\n",
        "predicted_unique = np.unique(test_predictions)\n",
        "\n",
        "# Create a mapping between integer labels and class indices which will be later used in classification as classes.\n",
        "label_to_index = {label: index for index, label in enumerate(original_labels)}\n",
        "\n",
        "print(original_labels)\n",
        "print(predicted_unique)\n",
        "print(label_to_index)"
      ],
      "metadata": {
        "colab": {
          "base_uri": "https://localhost:8080/"
        },
        "id": "BeE7sXhth0WJ",
        "outputId": "c826e22c-d900-4ecf-a04d-f631ebce06a9"
      },
      "execution_count": 11,
      "outputs": [
        {
          "output_type": "stream",
          "name": "stdout",
          "text": [
            "[   0    8   16   24   32   40   48   56   64   80  144 2048 2064 2072\n",
            " 2080 2096]\n",
            "[   0    8   16   24   32   40   48   64   80 2048 2064 2080]\n",
            "{0: 0, 8: 1, 16: 2, 24: 3, 32: 4, 40: 5, 48: 6, 56: 7, 64: 8, 80: 9, 144: 10, 2048: 11, 2064: 12, 2072: 13, 2080: 14, 2096: 15}\n"
          ]
        }
      ]
    }
  ]
}