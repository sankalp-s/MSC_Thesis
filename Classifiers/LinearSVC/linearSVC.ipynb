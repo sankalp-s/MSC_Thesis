{
  "nbformat": 4,
  "nbformat_minor": 0,
  "metadata": {
    "colab": {
      "provenance": []
    },
    "kernelspec": {
      "name": "python3",
      "display_name": "Python 3"
    },
    "language_info": {
      "name": "python"
    }
  },
  "cells": [
    {
      "cell_type": "code",
      "execution_count": 5,
      "metadata": {
        "id": "trysYXg4lDe6"
      },
      "outputs": [],
      "source": [
        "import numpy as np\n",
        "from sklearn.model_selection import train_test_split\n",
        "from sklearn.svm import LinearSVC\n",
        "from sklearn.metrics import accuracy_score, classification_report\n",
        "import joblib"
      ]
    },
    {
      "cell_type": "code",
      "source": [
        "from google.colab import drive\n",
        "drive.mount('/content/drive')"
      ],
      "metadata": {
        "colab": {
          "base_uri": "https://localhost:8080/"
        },
        "id": "ktDs3wvqldQj",
        "outputId": "f61c1b2e-39e2-48fc-c798-93bfe4b632e6"
      },
      "execution_count": 2,
      "outputs": [
        {
          "output_type": "stream",
          "name": "stdout",
          "text": [
            "Mounted at /content/drive\n"
          ]
        }
      ]
    },
    {
      "cell_type": "code",
      "source": [
        "# Load the dataset\n",
        "data = np.load(\"/content/drive/My Drive/Thesis_data/Master_integer.npy\", allow_pickle=True)\n",
        "\n",
        "# Separate features and target variable\n",
        "X = data[:, :-1]\n",
        "y = data[:, -1]\n",
        "\n",
        "# Split the dataset into training, validation, and testing sets\n",
        "X_train, X_test, y_train, y_test = train_test_split(X, y, test_size=0.2, random_state=42)\n",
        "X_train, X_val, y_train, y_val = train_test_split(X_train, y_train, test_size=0.25, random_state=42)  # 0.25 x 0.8 = 0.2"
      ],
      "metadata": {
        "id": "Uyi255qFle-9"
      },
      "execution_count": 6,
      "outputs": []
    },
    {
      "cell_type": "code",
      "source": [
        "print(data.shape)"
      ],
      "metadata": {
        "colab": {
          "base_uri": "https://localhost:8080/"
        },
        "id": "n_Xxq6gklnQU",
        "outputId": "7ddd022f-f01c-4091-e9a7-038f879c8720"
      },
      "execution_count": 7,
      "outputs": [
        {
          "output_type": "stream",
          "name": "stdout",
          "text": [
            "(120224, 170)\n"
          ]
        }
      ]
    },
    {
      "cell_type": "code",
      "source": [
        "# Initialize the KNeighborsClassifier\n",
        "model = LinearSVC()\n",
        "\n",
        "# Train the model\n",
        "model.fit(X_train, y_train)\n",
        "\n",
        "# Make predictions on validation data\n",
        "val_predictions = model.predict(X_val)\n",
        "\n",
        "# Evaluate the model on validation data\n",
        "val_accuracy = accuracy_score(y_val, val_predictions)\n",
        "print(\"Validation Accuracy:\", val_accuracy)\n",
        "\n",
        "# Make predictions on test data\n",
        "test_predictions = model.predict(X_test)\n",
        "\n",
        "# Evaluate the model on test data\n",
        "test_accuracy = accuracy_score(y_test, test_predictions)\n",
        "print(\"Test Accuracy:\", test_accuracy)"
      ],
      "metadata": {
        "colab": {
          "base_uri": "https://localhost:8080/"
        },
        "id": "BjlULQExlpje",
        "outputId": "340c1e76-8fc3-4477-8b54-9ed7ea27dc85"
      },
      "execution_count": 8,
      "outputs": [
        {
          "output_type": "stream",
          "name": "stdout",
          "text": [
            "Validation Accuracy: 0.6791848617176128\n",
            "Test Accuracy: 0.6869203576627158\n"
          ]
        },
        {
          "output_type": "stream",
          "name": "stderr",
          "text": [
            "/usr/local/lib/python3.10/dist-packages/sklearn/svm/_base.py:1244: ConvergenceWarning: Liblinear failed to converge, increase the number of iterations.\n",
            "  warnings.warn(\n"
          ]
        }
      ]
    },
    {
      "cell_type": "code",
      "source": [
        "# Print classification report for test data\n",
        "print(classification_report(y_test, test_predictions))"
      ],
      "metadata": {
        "colab": {
          "base_uri": "https://localhost:8080/"
        },
        "id": "r5YMDPe8l_6-",
        "outputId": "a2109734-47e4-4c54-d310-579c1655fd57"
      },
      "execution_count": 9,
      "outputs": [
        {
          "output_type": "stream",
          "name": "stdout",
          "text": [
            "              precision    recall  f1-score   support\n",
            "\n",
            "           0       0.65      0.10      0.18      2043\n",
            "           8       0.00      0.00      0.00        33\n",
            "          16       0.69      0.99      0.81     15810\n",
            "          24       0.46      0.00      0.01      1330\n",
            "          32       0.33      0.01      0.01      1512\n",
            "          40       0.00      0.00      0.00       155\n",
            "          48       0.00      0.00      0.00        11\n",
            "          56       0.00      0.00      0.00         1\n",
            "          64       0.91      0.90      0.91       538\n",
            "          80       0.00      0.00      0.00        24\n",
            "         144       0.00      0.00      0.00         3\n",
            "        2048       0.00      0.00      0.00        10\n",
            "        2064       0.53      0.09      0.15      2343\n",
            "        2080       0.00      0.00      0.00       228\n",
            "        2096       0.00      0.00      0.00         4\n",
            "\n",
            "    accuracy                           0.69     24045\n",
            "   macro avg       0.24      0.14      0.14     24045\n",
            "weighted avg       0.62      0.69      0.58     24045\n",
            "\n"
          ]
        },
        {
          "output_type": "stream",
          "name": "stderr",
          "text": [
            "/usr/local/lib/python3.10/dist-packages/sklearn/metrics/_classification.py:1344: UndefinedMetricWarning: Precision and F-score are ill-defined and being set to 0.0 in labels with no predicted samples. Use `zero_division` parameter to control this behavior.\n",
            "  _warn_prf(average, modifier, msg_start, len(result))\n",
            "/usr/local/lib/python3.10/dist-packages/sklearn/metrics/_classification.py:1344: UndefinedMetricWarning: Precision and F-score are ill-defined and being set to 0.0 in labels with no predicted samples. Use `zero_division` parameter to control this behavior.\n",
            "  _warn_prf(average, modifier, msg_start, len(result))\n",
            "/usr/local/lib/python3.10/dist-packages/sklearn/metrics/_classification.py:1344: UndefinedMetricWarning: Precision and F-score are ill-defined and being set to 0.0 in labels with no predicted samples. Use `zero_division` parameter to control this behavior.\n",
            "  _warn_prf(average, modifier, msg_start, len(result))\n"
          ]
        }
      ]
    },
    {
      "cell_type": "code",
      "source": [
        "import joblib\n",
        "\n",
        "# Save the trained model\n",
        "joblib.dump(model, '/content/drive/My Drive/Thesis_data/LinearSVC.pkl')"
      ],
      "metadata": {
        "colab": {
          "base_uri": "https://localhost:8080/"
        },
        "id": "DHpHF5MSmC3Q",
        "outputId": "d2a20b50-3a4e-4908-f5b4-ad2aea0eb3f7"
      },
      "execution_count": 10,
      "outputs": [
        {
          "output_type": "execute_result",
          "data": {
            "text/plain": [
              "['/content/drive/My Drive/Thesis_data/LinearSVC.pkl']"
            ]
          },
          "metadata": {},
          "execution_count": 10
        }
      ]
    },
    {
      "cell_type": "code",
      "source": [
        "print(X_test.shape)\n",
        "print(test_predictions.shape)"
      ],
      "metadata": {
        "colab": {
          "base_uri": "https://localhost:8080/"
        },
        "id": "YdQZVZQnmmqG",
        "outputId": "e566011d-b524-4d3b-e23e-d5c7b3e1e01c"
      },
      "execution_count": 11,
      "outputs": [
        {
          "output_type": "stream",
          "name": "stdout",
          "text": [
            "(24045, 169)\n",
            "(24045,)\n"
          ]
        }
      ]
    },
    {
      "cell_type": "code",
      "source": [
        "# Extract unique integer labels\n",
        "original_labels = np.unique(y)\n",
        "predicted_unique = np.unique(test_predictions)\n",
        "\n",
        "# Create a mapping between integer labels and class indices which will be later used in classification as classes.\n",
        "label_to_index = {label: index for index, label in enumerate(original_labels)}\n",
        "\n",
        "print(original_labels)\n",
        "print(predicted_unique)\n",
        "print(label_to_index)"
      ],
      "metadata": {
        "colab": {
          "base_uri": "https://localhost:8080/"
        },
        "id": "tV9n43dSmoaJ",
        "outputId": "31309f5c-1f4b-41c1-d2b3-6e13a1a820cf"
      },
      "execution_count": 12,
      "outputs": [
        {
          "output_type": "stream",
          "name": "stdout",
          "text": [
            "[   0    8   16   24   32   40   48   56   64   80  144 2048 2064 2072\n",
            " 2080 2096]\n",
            "[   0   16   24   32   64 2064]\n",
            "{0: 0, 8: 1, 16: 2, 24: 3, 32: 4, 40: 5, 48: 6, 56: 7, 64: 8, 80: 9, 144: 10, 2048: 11, 2064: 12, 2072: 13, 2080: 14, 2096: 15}\n"
          ]
        }
      ]
    }
  ]
}