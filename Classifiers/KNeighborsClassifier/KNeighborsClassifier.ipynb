{
  "nbformat": 4,
  "nbformat_minor": 0,
  "metadata": {
    "colab": {
      "provenance": []
    },
    "kernelspec": {
      "name": "python3",
      "display_name": "Python 3"
    },
    "language_info": {
      "name": "python"
    }
  },
  "cells": [
    {
      "cell_type": "code",
      "execution_count": 1,
      "metadata": {
        "id": "trysYXg4lDe6"
      },
      "outputs": [],
      "source": [
        "import numpy as np\n",
        "from sklearn.model_selection import train_test_split\n",
        "from sklearn.neighbors import KNeighborsClassifier\n",
        "from sklearn.metrics import accuracy_score, classification_report\n",
        "import joblib"
      ]
    },
    {
      "cell_type": "code",
      "source": [
        "from google.colab import drive\n",
        "drive.mount('/content/drive')"
      ],
      "metadata": {
        "colab": {
          "base_uri": "https://localhost:8080/"
        },
        "id": "ktDs3wvqldQj",
        "outputId": "054136fa-1a72-4a67-a351-566e609bbc5d"
      },
      "execution_count": 2,
      "outputs": [
        {
          "output_type": "stream",
          "name": "stdout",
          "text": [
            "Mounted at /content/drive\n"
          ]
        }
      ]
    },
    {
      "cell_type": "code",
      "source": [
        "# Load the dataset\n",
        "data = np.load(\"/content/drive/My Drive/Thesis_data/Master_integer.npy\", allow_pickle=True)\n",
        "\n",
        "# Separate features and target variable\n",
        "X = data[:, :-1]\n",
        "y = data[:, -1]\n",
        "\n",
        "# Split the dataset into training, validation, and testing sets\n",
        "X_train, X_test, y_train, y_test = train_test_split(X, y, test_size=0.2, random_state=42)\n",
        "X_train, X_val, y_train, y_val = train_test_split(X_train, y_train, test_size=0.25, random_state=42)  # 0.25 x 0.8 = 0.2"
      ],
      "metadata": {
        "id": "Uyi255qFle-9"
      },
      "execution_count": 3,
      "outputs": []
    },
    {
      "cell_type": "code",
      "source": [
        "print(data.shape)"
      ],
      "metadata": {
        "colab": {
          "base_uri": "https://localhost:8080/"
        },
        "id": "n_Xxq6gklnQU",
        "outputId": "f469703f-ab5a-491e-a559-5271a6f0b4ab"
      },
      "execution_count": 4,
      "outputs": [
        {
          "output_type": "stream",
          "name": "stdout",
          "text": [
            "(120224, 170)\n"
          ]
        }
      ]
    },
    {
      "cell_type": "code",
      "source": [
        "# Initialize the KNeighborsClassifier\n",
        "model = KNeighborsClassifier()\n",
        "\n",
        "# Train the model\n",
        "model.fit(X_train, y_train)\n",
        "\n",
        "# Make predictions on validation data\n",
        "val_predictions = model.predict(X_val)\n",
        "\n",
        "# Evaluate the model on validation data\n",
        "val_accuracy = accuracy_score(y_val, val_predictions)\n",
        "print(\"Validation Accuracy:\", val_accuracy)\n",
        "\n",
        "# Make predictions on test data\n",
        "test_predictions = model.predict(X_test)\n",
        "\n",
        "# Evaluate the model on test data\n",
        "test_accuracy = accuracy_score(y_test, test_predictions)\n",
        "print(\"Test Accuracy:\", test_accuracy)"
      ],
      "metadata": {
        "colab": {
          "base_uri": "https://localhost:8080/"
        },
        "id": "BjlULQExlpje",
        "outputId": "37560979-f28f-48a1-de6b-bcb4fb5acc92"
      },
      "execution_count": 5,
      "outputs": [
        {
          "output_type": "stream",
          "name": "stdout",
          "text": [
            "Validation Accuracy: 0.7353711790393013\n",
            "Test Accuracy: 0.7409024745269287\n"
          ]
        }
      ]
    },
    {
      "cell_type": "code",
      "source": [
        "# Print classification report for test data\n",
        "print(classification_report(y_test, test_predictions))"
      ],
      "metadata": {
        "colab": {
          "base_uri": "https://localhost:8080/"
        },
        "id": "r5YMDPe8l_6-",
        "outputId": "fee8d9d6-fccc-4a9f-ce0b-16bf6c937feb"
      },
      "execution_count": 6,
      "outputs": [
        {
          "output_type": "stream",
          "name": "stdout",
          "text": [
            "              precision    recall  f1-score   support\n",
            "\n",
            "           0       0.56      0.39      0.46      2043\n",
            "           8       0.67      0.06      0.11        33\n",
            "          16       0.78      0.93      0.85     15810\n",
            "          24       0.47      0.26      0.34      1330\n",
            "          32       0.50      0.29      0.37      1512\n",
            "          40       0.44      0.17      0.25       155\n",
            "          48       0.00      0.00      0.00        11\n",
            "          56       0.00      0.00      0.00         1\n",
            "          64       0.90      0.88      0.89       538\n",
            "          80       0.00      0.00      0.00        24\n",
            "         144       0.00      0.00      0.00         3\n",
            "        2048       0.00      0.00      0.00        10\n",
            "        2064       0.68      0.44      0.54      2343\n",
            "        2080       0.68      0.06      0.11       228\n",
            "        2096       0.00      0.00      0.00         4\n",
            "\n",
            "    accuracy                           0.74     24045\n",
            "   macro avg       0.38      0.23      0.26     24045\n",
            "weighted avg       0.71      0.74      0.71     24045\n",
            "\n"
          ]
        },
        {
          "output_type": "stream",
          "name": "stderr",
          "text": [
            "/usr/local/lib/python3.10/dist-packages/sklearn/metrics/_classification.py:1344: UndefinedMetricWarning: Precision and F-score are ill-defined and being set to 0.0 in labels with no predicted samples. Use `zero_division` parameter to control this behavior.\n",
            "  _warn_prf(average, modifier, msg_start, len(result))\n",
            "/usr/local/lib/python3.10/dist-packages/sklearn/metrics/_classification.py:1344: UndefinedMetricWarning: Precision and F-score are ill-defined and being set to 0.0 in labels with no predicted samples. Use `zero_division` parameter to control this behavior.\n",
            "  _warn_prf(average, modifier, msg_start, len(result))\n",
            "/usr/local/lib/python3.10/dist-packages/sklearn/metrics/_classification.py:1344: UndefinedMetricWarning: Precision and F-score are ill-defined and being set to 0.0 in labels with no predicted samples. Use `zero_division` parameter to control this behavior.\n",
            "  _warn_prf(average, modifier, msg_start, len(result))\n"
          ]
        }
      ]
    },
    {
      "cell_type": "code",
      "source": [
        "import joblib\n",
        "\n",
        "# Save the trained model\n",
        "joblib.dump(model, '/content/drive/My Drive/Thesis_data/KNeighborsClassifier.pkl')"
      ],
      "metadata": {
        "colab": {
          "base_uri": "https://localhost:8080/"
        },
        "id": "DHpHF5MSmC3Q",
        "outputId": "589f32b1-5fde-4447-986d-4d8250d26e22"
      },
      "execution_count": 7,
      "outputs": [
        {
          "output_type": "execute_result",
          "data": {
            "text/plain": [
              "['/content/drive/My Drive/Thesis_data/KNeighborsClassifier.pkl']"
            ]
          },
          "metadata": {},
          "execution_count": 7
        }
      ]
    },
    {
      "cell_type": "code",
      "source": [
        "print(X_test.shape)\n",
        "print(test_predictions.shape)"
      ],
      "metadata": {
        "colab": {
          "base_uri": "https://localhost:8080/"
        },
        "id": "YdQZVZQnmmqG",
        "outputId": "534ad085-9b04-4c2b-80f4-c0fcc3077475"
      },
      "execution_count": 8,
      "outputs": [
        {
          "output_type": "stream",
          "name": "stdout",
          "text": [
            "(24045, 169)\n",
            "(24045,)\n"
          ]
        }
      ]
    },
    {
      "cell_type": "code",
      "source": [
        "# Extract unique integer labels\n",
        "original_labels = np.unique(y)\n",
        "predicted_unique = np.unique(test_predictions)\n",
        "\n",
        "# Create a mapping between integer labels and class indices which will be later used in classification as classes.\n",
        "label_to_index = {label: index for index, label in enumerate(original_labels)}\n",
        "\n",
        "print(original_labels)\n",
        "print(predicted_unique)\n",
        "print(label_to_index)"
      ],
      "metadata": {
        "colab": {
          "base_uri": "https://localhost:8080/"
        },
        "id": "tV9n43dSmoaJ",
        "outputId": "25401368-3d00-4d7c-b9e9-da10252f2af4"
      },
      "execution_count": 9,
      "outputs": [
        {
          "output_type": "stream",
          "name": "stdout",
          "text": [
            "[   0    8   16   24   32   40   48   56   64   80  144 2048 2064 2072\n",
            " 2080 2096]\n",
            "[   0    8   16   24   32   40   64   80 2048 2064 2080]\n",
            "{0: 0, 8: 1, 16: 2, 24: 3, 32: 4, 40: 5, 48: 6, 56: 7, 64: 8, 80: 9, 144: 10, 2048: 11, 2064: 12, 2072: 13, 2080: 14, 2096: 15}\n"
          ]
        }
      ]
    }
  ]
}