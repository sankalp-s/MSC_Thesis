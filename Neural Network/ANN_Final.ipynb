{
  "nbformat": 4,
  "nbformat_minor": 0,
  "metadata": {
    "colab": {
      "provenance": []
    },
    "kernelspec": {
      "name": "python3",
      "display_name": "Python 3"
    },
    "language_info": {
      "name": "python"
    },
    "accelerator": "TPU"
  },
  "cells": [
    {
      "cell_type": "code",
      "execution_count": 105,
      "metadata": {
        "id": "Z1uoQmOwbeRO"
      },
      "outputs": [],
      "source": [
        "# Import necessary libraries\n",
        "import numpy as np\n",
        "import tensorflow as tf\n",
        "from tensorflow.keras.models import Sequential\n",
        "from tensorflow.keras.layers import Dense, Flatten\n",
        "import matplotlib.pyplot as plt\n",
        "from sklearn.model_selection import train_test_split"
      ]
    },
    {
      "cell_type": "code",
      "source": [
        "#Mounting the drive to load the Dataset\n",
        "from google.colab import drive\n",
        "drive.mount('/content/drive')"
      ],
      "metadata": {
        "colab": {
          "base_uri": "https://localhost:8080/"
        },
        "id": "lNxgAZIfblCN",
        "outputId": "82c3a45b-ca36-4530-8a35-5d4c1f932a78"
      },
      "execution_count": 106,
      "outputs": [
        {
          "output_type": "stream",
          "name": "stdout",
          "text": [
            "Drive already mounted at /content/drive; to attempt to forcibly remount, call drive.mount(\"/content/drive\", force_remount=True).\n"
          ]
        }
      ]
    },
    {
      "cell_type": "code",
      "source": [
        "# Load data\n",
        "combined_data = np.load(\"/content/drive/My Drive/Thesis_data/Master_integer.npy\", allow_pickle=True)\n",
        "# Separate features and labels\n",
        "X = combined_data[:, :-1]\n",
        "y = combined_data[:, -1] #Last column is the target variable"
      ],
      "metadata": {
        "id": "5f1uZMg4bsPI"
      },
      "execution_count": 107,
      "outputs": []
    },
    {
      "cell_type": "code",
      "source": [
        "#Shape of the dataset\n",
        "print(combined_data.shape)\n",
        "\n",
        "#Shape of the training dataset X\n",
        "print(X.shape) #It is flattened 13x13 extracted RAM arrays\n",
        "\n",
        "#Shape of the target variable dataset\n",
        "print(y.shape) #It contains single integer values obtained from converting the binary array(of the action)"
      ],
      "metadata": {
        "colab": {
          "base_uri": "https://localhost:8080/"
        },
        "id": "uHxyIljWa-kB",
        "outputId": "01283e27-002b-4d45-a68a-7fa4de3d890e"
      },
      "execution_count": 262,
      "outputs": [
        {
          "output_type": "stream",
          "name": "stdout",
          "text": [
            "(120224, 170)\n",
            "(120224, 169)\n",
            "(120224,)\n"
          ]
        }
      ]
    },
    {
      "cell_type": "code",
      "source": [
        "# Extract unique integer labels\n",
        "original_labels = np.unique(y)\n",
        "\n",
        "# Create a mapping between integer labels and class indices which will be later used in classification as classes.\n",
        "label_to_index = {label: index for index, label in enumerate(original_labels)}\n",
        "\n",
        "# Create a mapping from class indices to original labels which will be later used to track the labels from the class index.\n",
        "index_to_label = {index: label for label, index in label_to_index.items()}\n",
        "\n",
        "# Replace labels with corresponding class indices\n",
        "# Modifying the target variables for classification\n",
        "y_categorical = np.array([label_to_index[label] for label in y])"
      ],
      "metadata": {
        "id": "Q_3Fm0Vf_Tzs"
      },
      "execution_count": 110,
      "outputs": []
    },
    {
      "cell_type": "code",
      "source": [
        "print(original_labels)\n",
        "print(label_to_index)"
      ],
      "metadata": {
        "colab": {
          "base_uri": "https://localhost:8080/"
        },
        "id": "7I4dGtfLpRhe",
        "outputId": "8226241b-5a5f-4172-a8e4-7c77f0aeaaee"
      },
      "execution_count": 146,
      "outputs": [
        {
          "output_type": "stream",
          "name": "stdout",
          "text": [
            "[   0    8   16   24   32   40   48   56   64   80  144 2048 2064 2072\n",
            " 2080 2096]\n",
            "{0: 0, 8: 1, 16: 2, 24: 3, 32: 4, 40: 5, 48: 6, 56: 7, 64: 8, 80: 9, 144: 10, 2048: 11, 2064: 12, 2072: 13, 2080: 14, 2096: 15}\n"
          ]
        }
      ]
    },
    {
      "cell_type": "code",
      "source": [
        "# Determine the number of classes\n",
        "num_classes = len(original_labels)\n",
        "\n",
        "# Split the dataset into training, validation, and testing sets\n",
        "X_train, X_test, y_train, y_test = train_test_split(X, y_categorical, test_size=0.2, random_state=42)\n",
        "X_train, X_validation, y_train, y_validation = train_test_split(X_train, y_train, test_size=0.25, random_state=42)  # 0.25 x 0.8 = 0.2"
      ],
      "metadata": {
        "id": "JdBuCPmjbzl-"
      },
      "execution_count": 115,
      "outputs": []
    },
    {
      "cell_type": "code",
      "source": [
        "#observe the difference between the actual y and the converterd y\n",
        "print(y[90]) #prints the actual value\n",
        "print(y_categorical[90]) #prints the index"
      ],
      "metadata": {
        "colab": {
          "base_uri": "https://localhost:8080/"
        },
        "id": "8vrQadIsl4wK",
        "outputId": "91a33171-1dd2-446f-91cb-b434dc9fec12"
      },
      "execution_count": 149,
      "outputs": [
        {
          "output_type": "stream",
          "name": "stdout",
          "text": [
            "16\n",
            "2\n"
          ]
        }
      ]
    },
    {
      "cell_type": "code",
      "source": [
        "# Define model\n",
        "#Softmax activation is commonly used in multi-class classification problems as it outputs a probability distribution over the classes.\n",
        "\n",
        "model = Sequential([\n",
        "    Flatten(input_shape=(X.shape[1],)),  # Input shape depends on the number of features\n",
        "    Dense(100, activation='relu'),\n",
        "    Dense(20, activation='relu'),\n",
        "    Dense(40, activation='relu'),\n",
        "    Dense(num_classes, activation='softmax')  # Output layer with softmax activation\n",
        "])\n",
        "\n",
        "model.summary()"
      ],
      "metadata": {
        "colab": {
          "base_uri": "https://localhost:8080/"
        },
        "id": "P2Awjdu9b4Yd",
        "outputId": "38ba7d9b-aac1-4ab7-b3ee-7efcf6527f3f"
      },
      "execution_count": 120,
      "outputs": [
        {
          "output_type": "stream",
          "name": "stdout",
          "text": [
            "Model: \"sequential_5\"\n",
            "_________________________________________________________________\n",
            " Layer (type)                Output Shape              Param #   \n",
            "=================================================================\n",
            " flatten_3 (Flatten)         (None, 169)               0         \n",
            "                                                                 \n",
            " dense_12 (Dense)            (None, 100)               17000     \n",
            "                                                                 \n",
            " dense_13 (Dense)            (None, 20)                2020      \n",
            "                                                                 \n",
            " dense_14 (Dense)            (None, 40)                840       \n",
            "                                                                 \n",
            " dense_15 (Dense)            (None, 16)                656       \n",
            "                                                                 \n",
            "=================================================================\n",
            "Total params: 20,516\n",
            "Trainable params: 20,516\n",
            "Non-trainable params: 0\n",
            "_________________________________________________________________\n"
          ]
        }
      ]
    },
    {
      "cell_type": "code",
      "source": [
        "#Stop if validation accuracy goes down, prevents overfitting\n",
        "callback = tf.keras.callbacks.EarlyStopping(patience = 10)\n",
        "\n",
        "# Compile model\n",
        "# Sparse categorical cross-entropy loss function is commonly used for classification problems where the labels are integers.\n",
        "model.compile(optimizer='adam', loss=tf.keras.losses.SparseCategoricalCrossentropy(from_logits=True), metrics=['accuracy'])\n",
        "\n",
        "# Train model\n",
        "history = model.fit(X_train, y_train, epochs=150, batch_size=10, verbose=2, validation_data=(X_validation, y_validation))"
      ],
      "metadata": {
        "colab": {
          "base_uri": "https://localhost:8080/"
        },
        "id": "cXrejWjOhkva",
        "outputId": "91e49427-f967-4dfc-bc31-58cb83f1afc4"
      },
      "execution_count": 121,
      "outputs": [
        {
          "output_type": "stream",
          "name": "stdout",
          "text": [
            "Epoch 1/150\n"
          ]
        },
        {
          "output_type": "stream",
          "name": "stderr",
          "text": [
            "/usr/local/lib/python3.10/dist-packages/keras/backend.py:5612: UserWarning: \"`sparse_categorical_crossentropy` received `from_logits=True`, but the `output` argument was produced by a Softmax activation and thus does not represent logits. Was this intended?\n",
            "  output, from_logits = _get_logits(\n"
          ]
        },
        {
          "output_type": "stream",
          "name": "stdout",
          "text": [
            "7214/7214 - 21s - loss: 0.9550 - accuracy: 0.7041 - val_loss: 0.8735 - val_accuracy: 0.7190 - 21s/epoch - 3ms/step\n",
            "Epoch 2/150\n",
            "7214/7214 - 17s - loss: 0.8415 - accuracy: 0.7311 - val_loss: 0.8343 - val_accuracy: 0.7309 - 17s/epoch - 2ms/step\n",
            "Epoch 3/150\n",
            "7214/7214 - 19s - loss: 0.8045 - accuracy: 0.7413 - val_loss: 0.8089 - val_accuracy: 0.7340 - 19s/epoch - 3ms/step\n",
            "Epoch 4/150\n",
            "7214/7214 - 19s - loss: 0.7827 - accuracy: 0.7447 - val_loss: 0.8028 - val_accuracy: 0.7391 - 19s/epoch - 3ms/step\n",
            "Epoch 5/150\n",
            "7214/7214 - 18s - loss: 0.7675 - accuracy: 0.7487 - val_loss: 0.7997 - val_accuracy: 0.7384 - 18s/epoch - 2ms/step\n",
            "Epoch 6/150\n",
            "7214/7214 - 17s - loss: 0.7572 - accuracy: 0.7514 - val_loss: 0.7910 - val_accuracy: 0.7421 - 17s/epoch - 2ms/step\n",
            "Epoch 7/150\n",
            "7214/7214 - 19s - loss: 0.7492 - accuracy: 0.7517 - val_loss: 0.7848 - val_accuracy: 0.7446 - 19s/epoch - 3ms/step\n",
            "Epoch 8/150\n",
            "7214/7214 - 17s - loss: 0.7424 - accuracy: 0.7547 - val_loss: 0.7843 - val_accuracy: 0.7430 - 17s/epoch - 2ms/step\n",
            "Epoch 9/150\n",
            "7214/7214 - 17s - loss: 0.7348 - accuracy: 0.7574 - val_loss: 0.7853 - val_accuracy: 0.7441 - 17s/epoch - 2ms/step\n",
            "Epoch 10/150\n",
            "7214/7214 - 19s - loss: 0.7305 - accuracy: 0.7584 - val_loss: 0.7772 - val_accuracy: 0.7444 - 19s/epoch - 3ms/step\n",
            "Epoch 11/150\n",
            "7214/7214 - 19s - loss: 0.7267 - accuracy: 0.7587 - val_loss: 0.7897 - val_accuracy: 0.7433 - 19s/epoch - 3ms/step\n",
            "Epoch 12/150\n",
            "7214/7214 - 20s - loss: 0.7241 - accuracy: 0.7598 - val_loss: 0.7794 - val_accuracy: 0.7463 - 20s/epoch - 3ms/step\n",
            "Epoch 13/150\n",
            "7214/7214 - 20s - loss: 0.7196 - accuracy: 0.7614 - val_loss: 0.7892 - val_accuracy: 0.7463 - 20s/epoch - 3ms/step\n",
            "Epoch 14/150\n",
            "7214/7214 - 22s - loss: 0.7157 - accuracy: 0.7617 - val_loss: 0.7851 - val_accuracy: 0.7460 - 22s/epoch - 3ms/step\n",
            "Epoch 15/150\n",
            "7214/7214 - 19s - loss: 0.7150 - accuracy: 0.7625 - val_loss: 0.7741 - val_accuracy: 0.7462 - 19s/epoch - 3ms/step\n",
            "Epoch 16/150\n",
            "7214/7214 - 19s - loss: 0.7111 - accuracy: 0.7627 - val_loss: 0.7741 - val_accuracy: 0.7481 - 19s/epoch - 3ms/step\n",
            "Epoch 17/150\n",
            "7214/7214 - 18s - loss: 0.7088 - accuracy: 0.7629 - val_loss: 0.7715 - val_accuracy: 0.7480 - 18s/epoch - 3ms/step\n",
            "Epoch 18/150\n",
            "7214/7214 - 20s - loss: 0.7065 - accuracy: 0.7640 - val_loss: 0.7753 - val_accuracy: 0.7500 - 20s/epoch - 3ms/step\n",
            "Epoch 19/150\n",
            "7214/7214 - 19s - loss: 0.7052 - accuracy: 0.7642 - val_loss: 0.7749 - val_accuracy: 0.7510 - 19s/epoch - 3ms/step\n",
            "Epoch 20/150\n",
            "7214/7214 - 18s - loss: 0.7025 - accuracy: 0.7653 - val_loss: 0.7763 - val_accuracy: 0.7496 - 18s/epoch - 2ms/step\n",
            "Epoch 21/150\n",
            "7214/7214 - 20s - loss: 0.7011 - accuracy: 0.7649 - val_loss: 0.7837 - val_accuracy: 0.7510 - 20s/epoch - 3ms/step\n",
            "Epoch 22/150\n",
            "7214/7214 - 18s - loss: 0.6992 - accuracy: 0.7663 - val_loss: 0.7816 - val_accuracy: 0.7449 - 18s/epoch - 3ms/step\n",
            "Epoch 23/150\n",
            "7214/7214 - 19s - loss: 0.6988 - accuracy: 0.7659 - val_loss: 0.7736 - val_accuracy: 0.7518 - 19s/epoch - 3ms/step\n",
            "Epoch 24/150\n",
            "7214/7214 - 18s - loss: 0.6968 - accuracy: 0.7673 - val_loss: 0.7818 - val_accuracy: 0.7488 - 18s/epoch - 2ms/step\n",
            "Epoch 25/150\n",
            "7214/7214 - 19s - loss: 0.6963 - accuracy: 0.7672 - val_loss: 0.7770 - val_accuracy: 0.7473 - 19s/epoch - 3ms/step\n",
            "Epoch 26/150\n",
            "7214/7214 - 19s - loss: 0.6945 - accuracy: 0.7671 - val_loss: 0.7796 - val_accuracy: 0.7514 - 19s/epoch - 3ms/step\n",
            "Epoch 27/150\n",
            "7214/7214 - 17s - loss: 0.6928 - accuracy: 0.7678 - val_loss: 0.7828 - val_accuracy: 0.7509 - 17s/epoch - 2ms/step\n",
            "Epoch 28/150\n",
            "7214/7214 - 17s - loss: 0.6915 - accuracy: 0.7669 - val_loss: 0.7817 - val_accuracy: 0.7479 - 17s/epoch - 2ms/step\n",
            "Epoch 29/150\n",
            "7214/7214 - 19s - loss: 0.6915 - accuracy: 0.7679 - val_loss: 0.7810 - val_accuracy: 0.7525 - 19s/epoch - 3ms/step\n",
            "Epoch 30/150\n",
            "7214/7214 - 20s - loss: 0.6910 - accuracy: 0.7687 - val_loss: 0.7833 - val_accuracy: 0.7515 - 20s/epoch - 3ms/step\n",
            "Epoch 31/150\n",
            "7214/7214 - 19s - loss: 0.6893 - accuracy: 0.7678 - val_loss: 0.7818 - val_accuracy: 0.7509 - 19s/epoch - 3ms/step\n",
            "Epoch 32/150\n",
            "7214/7214 - 20s - loss: 0.6892 - accuracy: 0.7686 - val_loss: 0.7858 - val_accuracy: 0.7498 - 20s/epoch - 3ms/step\n",
            "Epoch 33/150\n",
            "7214/7214 - 19s - loss: 0.6873 - accuracy: 0.7685 - val_loss: 0.7815 - val_accuracy: 0.7525 - 19s/epoch - 3ms/step\n",
            "Epoch 34/150\n",
            "7214/7214 - 18s - loss: 0.6884 - accuracy: 0.7694 - val_loss: 0.7866 - val_accuracy: 0.7517 - 18s/epoch - 3ms/step\n",
            "Epoch 35/150\n",
            "7214/7214 - 17s - loss: 0.6863 - accuracy: 0.7690 - val_loss: 0.7873 - val_accuracy: 0.7506 - 17s/epoch - 2ms/step\n",
            "Epoch 36/150\n",
            "7214/7214 - 19s - loss: 0.6857 - accuracy: 0.7693 - val_loss: 0.7996 - val_accuracy: 0.7518 - 19s/epoch - 3ms/step\n",
            "Epoch 37/150\n",
            "7214/7214 - 18s - loss: 0.6851 - accuracy: 0.7692 - val_loss: 0.7926 - val_accuracy: 0.7510 - 18s/epoch - 2ms/step\n",
            "Epoch 38/150\n",
            "7214/7214 - 18s - loss: 0.6851 - accuracy: 0.7688 - val_loss: 0.7930 - val_accuracy: 0.7525 - 18s/epoch - 2ms/step\n",
            "Epoch 39/150\n",
            "7214/7214 - 20s - loss: 0.6833 - accuracy: 0.7699 - val_loss: 0.7922 - val_accuracy: 0.7520 - 20s/epoch - 3ms/step\n",
            "Epoch 40/150\n",
            "7214/7214 - 20s - loss: 0.6828 - accuracy: 0.7696 - val_loss: 0.8033 - val_accuracy: 0.7525 - 20s/epoch - 3ms/step\n",
            "Epoch 41/150\n",
            "7214/7214 - 19s - loss: 0.6830 - accuracy: 0.7701 - val_loss: 0.8037 - val_accuracy: 0.7536 - 19s/epoch - 3ms/step\n",
            "Epoch 42/150\n",
            "7214/7214 - 18s - loss: 0.6836 - accuracy: 0.7697 - val_loss: 0.7964 - val_accuracy: 0.7521 - 18s/epoch - 2ms/step\n",
            "Epoch 43/150\n",
            "7214/7214 - 17s - loss: 0.6805 - accuracy: 0.7702 - val_loss: 0.7992 - val_accuracy: 0.7467 - 17s/epoch - 2ms/step\n",
            "Epoch 44/150\n",
            "7214/7214 - 20s - loss: 0.6817 - accuracy: 0.7711 - val_loss: 0.8009 - val_accuracy: 0.7502 - 20s/epoch - 3ms/step\n",
            "Epoch 45/150\n",
            "7214/7214 - 17s - loss: 0.6816 - accuracy: 0.7706 - val_loss: 0.8009 - val_accuracy: 0.7511 - 17s/epoch - 2ms/step\n",
            "Epoch 46/150\n",
            "7214/7214 - 19s - loss: 0.6800 - accuracy: 0.7713 - val_loss: 0.8058 - val_accuracy: 0.7508 - 19s/epoch - 3ms/step\n",
            "Epoch 47/150\n",
            "7214/7214 - 18s - loss: 0.6803 - accuracy: 0.7707 - val_loss: 0.8020 - val_accuracy: 0.7528 - 18s/epoch - 3ms/step\n",
            "Epoch 48/150\n",
            "7214/7214 - 20s - loss: 0.6803 - accuracy: 0.7717 - val_loss: 0.8028 - val_accuracy: 0.7519 - 20s/epoch - 3ms/step\n",
            "Epoch 49/150\n",
            "7214/7214 - 19s - loss: 0.6794 - accuracy: 0.7707 - val_loss: 0.8001 - val_accuracy: 0.7523 - 19s/epoch - 3ms/step\n",
            "Epoch 50/150\n",
            "7214/7214 - 19s - loss: 0.6794 - accuracy: 0.7716 - val_loss: 0.8008 - val_accuracy: 0.7510 - 19s/epoch - 3ms/step\n",
            "Epoch 51/150\n",
            "7214/7214 - 20s - loss: 0.6779 - accuracy: 0.7706 - val_loss: 0.8001 - val_accuracy: 0.7511 - 20s/epoch - 3ms/step\n",
            "Epoch 52/150\n",
            "7214/7214 - 17s - loss: 0.6771 - accuracy: 0.7713 - val_loss: 0.8046 - val_accuracy: 0.7500 - 17s/epoch - 2ms/step\n",
            "Epoch 53/150\n",
            "7214/7214 - 19s - loss: 0.6776 - accuracy: 0.7715 - val_loss: 0.8066 - val_accuracy: 0.7516 - 19s/epoch - 3ms/step\n",
            "Epoch 54/150\n",
            "7214/7214 - 20s - loss: 0.6773 - accuracy: 0.7714 - val_loss: 0.8091 - val_accuracy: 0.7518 - 20s/epoch - 3ms/step\n",
            "Epoch 55/150\n",
            "7214/7214 - 17s - loss: 0.6768 - accuracy: 0.7706 - val_loss: 0.8064 - val_accuracy: 0.7528 - 17s/epoch - 2ms/step\n",
            "Epoch 56/150\n",
            "7214/7214 - 19s - loss: 0.6771 - accuracy: 0.7715 - val_loss: 0.8115 - val_accuracy: 0.7520 - 19s/epoch - 3ms/step\n",
            "Epoch 57/150\n",
            "7214/7214 - 19s - loss: 0.6772 - accuracy: 0.7721 - val_loss: 0.8245 - val_accuracy: 0.7512 - 19s/epoch - 3ms/step\n",
            "Epoch 58/150\n",
            "7214/7214 - 20s - loss: 0.6766 - accuracy: 0.7708 - val_loss: 0.8205 - val_accuracy: 0.7530 - 20s/epoch - 3ms/step\n",
            "Epoch 59/150\n",
            "7214/7214 - 17s - loss: 0.6771 - accuracy: 0.7703 - val_loss: 0.8200 - val_accuracy: 0.7515 - 17s/epoch - 2ms/step\n",
            "Epoch 60/150\n",
            "7214/7214 - 19s - loss: 0.6759 - accuracy: 0.7714 - val_loss: 0.8088 - val_accuracy: 0.7519 - 19s/epoch - 3ms/step\n",
            "Epoch 61/150\n",
            "7214/7214 - 19s - loss: 0.6767 - accuracy: 0.7709 - val_loss: 0.8253 - val_accuracy: 0.7515 - 19s/epoch - 3ms/step\n",
            "Epoch 62/150\n",
            "7214/7214 - 19s - loss: 0.6744 - accuracy: 0.7720 - val_loss: 0.8232 - val_accuracy: 0.7518 - 19s/epoch - 3ms/step\n",
            "Epoch 63/150\n",
            "7214/7214 - 20s - loss: 0.6754 - accuracy: 0.7723 - val_loss: 0.8188 - val_accuracy: 0.7542 - 20s/epoch - 3ms/step\n",
            "Epoch 64/150\n",
            "7214/7214 - 20s - loss: 0.6749 - accuracy: 0.7723 - val_loss: 0.8203 - val_accuracy: 0.7523 - 20s/epoch - 3ms/step\n",
            "Epoch 65/150\n",
            "7214/7214 - 18s - loss: 0.6751 - accuracy: 0.7714 - val_loss: 0.8294 - val_accuracy: 0.7529 - 18s/epoch - 2ms/step\n",
            "Epoch 66/150\n",
            "7214/7214 - 19s - loss: 0.6743 - accuracy: 0.7713 - val_loss: 0.8236 - val_accuracy: 0.7518 - 19s/epoch - 3ms/step\n",
            "Epoch 67/150\n",
            "7214/7214 - 19s - loss: 0.6739 - accuracy: 0.7713 - val_loss: 0.8325 - val_accuracy: 0.7525 - 19s/epoch - 3ms/step\n",
            "Epoch 68/150\n",
            "7214/7214 - 18s - loss: 0.6734 - accuracy: 0.7722 - val_loss: 0.8374 - val_accuracy: 0.7539 - 18s/epoch - 3ms/step\n",
            "Epoch 69/150\n",
            "7214/7214 - 18s - loss: 0.6730 - accuracy: 0.7725 - val_loss: 0.8366 - val_accuracy: 0.7523 - 18s/epoch - 2ms/step\n",
            "Epoch 70/150\n",
            "7214/7214 - 20s - loss: 0.6735 - accuracy: 0.7720 - val_loss: 0.8342 - val_accuracy: 0.7510 - 20s/epoch - 3ms/step\n",
            "Epoch 71/150\n",
            "7214/7214 - 21s - loss: 0.6746 - accuracy: 0.7716 - val_loss: 0.8495 - val_accuracy: 0.7525 - 21s/epoch - 3ms/step\n",
            "Epoch 72/150\n",
            "7214/7214 - 20s - loss: 0.6719 - accuracy: 0.7723 - val_loss: 0.8237 - val_accuracy: 0.7538 - 20s/epoch - 3ms/step\n",
            "Epoch 73/150\n",
            "7214/7214 - 18s - loss: 0.6750 - accuracy: 0.7723 - val_loss: 0.8400 - val_accuracy: 0.7527 - 18s/epoch - 2ms/step\n",
            "Epoch 74/150\n",
            "7214/7214 - 20s - loss: 0.6720 - accuracy: 0.7735 - val_loss: 0.8538 - val_accuracy: 0.7528 - 20s/epoch - 3ms/step\n",
            "Epoch 75/150\n",
            "7214/7214 - 19s - loss: 0.6725 - accuracy: 0.7731 - val_loss: 0.8516 - val_accuracy: 0.7520 - 19s/epoch - 3ms/step\n",
            "Epoch 76/150\n",
            "7214/7214 - 28s - loss: 0.6725 - accuracy: 0.7721 - val_loss: 0.8401 - val_accuracy: 0.7511 - 28s/epoch - 4ms/step\n",
            "Epoch 77/150\n",
            "7214/7214 - 30s - loss: 0.6727 - accuracy: 0.7732 - val_loss: 0.8562 - val_accuracy: 0.7541 - 30s/epoch - 4ms/step\n",
            "Epoch 78/150\n",
            "7214/7214 - 24s - loss: 0.6733 - accuracy: 0.7719 - val_loss: 0.8354 - val_accuracy: 0.7532 - 24s/epoch - 3ms/step\n",
            "Epoch 79/150\n",
            "7214/7214 - 21s - loss: 0.6741 - accuracy: 0.7724 - val_loss: 0.8530 - val_accuracy: 0.7487 - 21s/epoch - 3ms/step\n",
            "Epoch 80/150\n",
            "7214/7214 - 22s - loss: 0.6719 - accuracy: 0.7723 - val_loss: 0.8614 - val_accuracy: 0.7499 - 22s/epoch - 3ms/step\n",
            "Epoch 81/150\n",
            "7214/7214 - 22s - loss: 0.6744 - accuracy: 0.7721 - val_loss: 0.8810 - val_accuracy: 0.7505 - 22s/epoch - 3ms/step\n",
            "Epoch 82/150\n",
            "7214/7214 - 22s - loss: 0.6722 - accuracy: 0.7723 - val_loss: 0.8734 - val_accuracy: 0.7525 - 22s/epoch - 3ms/step\n",
            "Epoch 83/150\n",
            "7214/7214 - 21s - loss: 0.6724 - accuracy: 0.7725 - val_loss: 0.8640 - val_accuracy: 0.7496 - 21s/epoch - 3ms/step\n",
            "Epoch 84/150\n",
            "7214/7214 - 21s - loss: 0.6714 - accuracy: 0.7728 - val_loss: 0.8793 - val_accuracy: 0.7524 - 21s/epoch - 3ms/step\n",
            "Epoch 85/150\n",
            "7214/7214 - 21s - loss: 0.6715 - accuracy: 0.7729 - val_loss: 0.8819 - val_accuracy: 0.7519 - 21s/epoch - 3ms/step\n",
            "Epoch 86/150\n",
            "7214/7214 - 19s - loss: 0.6709 - accuracy: 0.7733 - val_loss: 0.8721 - val_accuracy: 0.7532 - 19s/epoch - 3ms/step\n",
            "Epoch 87/150\n",
            "7214/7214 - 19s - loss: 0.6704 - accuracy: 0.7728 - val_loss: 0.8677 - val_accuracy: 0.7521 - 19s/epoch - 3ms/step\n",
            "Epoch 88/150\n",
            "7214/7214 - 18s - loss: 0.6731 - accuracy: 0.7730 - val_loss: 0.8682 - val_accuracy: 0.7530 - 18s/epoch - 2ms/step\n",
            "Epoch 89/150\n",
            "7214/7214 - 20s - loss: 0.6727 - accuracy: 0.7724 - val_loss: 0.8694 - val_accuracy: 0.7498 - 20s/epoch - 3ms/step\n",
            "Epoch 90/150\n",
            "7214/7214 - 19s - loss: 0.6728 - accuracy: 0.7738 - val_loss: 0.8600 - val_accuracy: 0.7516 - 19s/epoch - 3ms/step\n",
            "Epoch 91/150\n",
            "7214/7214 - 20s - loss: 0.6704 - accuracy: 0.7729 - val_loss: 0.8870 - val_accuracy: 0.7508 - 20s/epoch - 3ms/step\n",
            "Epoch 92/150\n",
            "7214/7214 - 21s - loss: 0.6724 - accuracy: 0.7730 - val_loss: 0.8807 - val_accuracy: 0.7508 - 21s/epoch - 3ms/step\n",
            "Epoch 93/150\n",
            "7214/7214 - 20s - loss: 0.6706 - accuracy: 0.7739 - val_loss: 0.8834 - val_accuracy: 0.7512 - 20s/epoch - 3ms/step\n",
            "Epoch 94/150\n",
            "7214/7214 - 20s - loss: 0.6711 - accuracy: 0.7723 - val_loss: 0.8700 - val_accuracy: 0.7489 - 20s/epoch - 3ms/step\n",
            "Epoch 95/150\n",
            "7214/7214 - 20s - loss: 0.6726 - accuracy: 0.7728 - val_loss: 0.9001 - val_accuracy: 0.7508 - 20s/epoch - 3ms/step\n",
            "Epoch 96/150\n",
            "7214/7214 - 18s - loss: 0.6732 - accuracy: 0.7725 - val_loss: 0.8801 - val_accuracy: 0.7493 - 18s/epoch - 2ms/step\n",
            "Epoch 97/150\n",
            "7214/7214 - 19s - loss: 0.6699 - accuracy: 0.7727 - val_loss: 0.9053 - val_accuracy: 0.7503 - 19s/epoch - 3ms/step\n",
            "Epoch 98/150\n",
            "7214/7214 - 20s - loss: 0.6733 - accuracy: 0.7727 - val_loss: 0.8744 - val_accuracy: 0.7510 - 20s/epoch - 3ms/step\n",
            "Epoch 99/150\n",
            "7214/7214 - 20s - loss: 0.6717 - accuracy: 0.7714 - val_loss: 0.9196 - val_accuracy: 0.7515 - 20s/epoch - 3ms/step\n",
            "Epoch 100/150\n",
            "7214/7214 - 19s - loss: 0.6697 - accuracy: 0.7732 - val_loss: 0.8907 - val_accuracy: 0.7541 - 19s/epoch - 3ms/step\n",
            "Epoch 101/150\n",
            "7214/7214 - 19s - loss: 0.6718 - accuracy: 0.7731 - val_loss: 0.8971 - val_accuracy: 0.7518 - 19s/epoch - 3ms/step\n",
            "Epoch 102/150\n",
            "7214/7214 - 22s - loss: 0.6730 - accuracy: 0.7733 - val_loss: 0.8972 - val_accuracy: 0.7519 - 22s/epoch - 3ms/step\n",
            "Epoch 103/150\n",
            "7214/7214 - 19s - loss: 0.6720 - accuracy: 0.7731 - val_loss: 0.9012 - val_accuracy: 0.7511 - 19s/epoch - 3ms/step\n",
            "Epoch 104/150\n",
            "7214/7214 - 20s - loss: 0.6719 - accuracy: 0.7739 - val_loss: 0.8940 - val_accuracy: 0.7508 - 20s/epoch - 3ms/step\n",
            "Epoch 105/150\n",
            "7214/7214 - 20s - loss: 0.6731 - accuracy: 0.7732 - val_loss: 0.9063 - val_accuracy: 0.7462 - 20s/epoch - 3ms/step\n",
            "Epoch 106/150\n",
            "7214/7214 - 21s - loss: 0.6695 - accuracy: 0.7733 - val_loss: 0.9127 - val_accuracy: 0.7498 - 21s/epoch - 3ms/step\n",
            "Epoch 107/150\n",
            "7214/7214 - 20s - loss: 0.6709 - accuracy: 0.7730 - val_loss: 0.8991 - val_accuracy: 0.7506 - 20s/epoch - 3ms/step\n",
            "Epoch 108/150\n",
            "7214/7214 - 19s - loss: 0.6745 - accuracy: 0.7723 - val_loss: 0.8954 - val_accuracy: 0.7528 - 19s/epoch - 3ms/step\n",
            "Epoch 109/150\n",
            "7214/7214 - 20s - loss: 0.6707 - accuracy: 0.7742 - val_loss: 0.9081 - val_accuracy: 0.7502 - 20s/epoch - 3ms/step\n",
            "Epoch 110/150\n",
            "7214/7214 - 19s - loss: 0.6722 - accuracy: 0.7731 - val_loss: 0.9083 - val_accuracy: 0.7508 - 19s/epoch - 3ms/step\n",
            "Epoch 111/150\n",
            "7214/7214 - 18s - loss: 0.6713 - accuracy: 0.7735 - val_loss: 0.9261 - val_accuracy: 0.7508 - 18s/epoch - 2ms/step\n",
            "Epoch 112/150\n",
            "7214/7214 - 19s - loss: 0.6729 - accuracy: 0.7732 - val_loss: 0.9337 - val_accuracy: 0.7492 - 19s/epoch - 3ms/step\n",
            "Epoch 113/150\n",
            "7214/7214 - 21s - loss: 0.6712 - accuracy: 0.7738 - val_loss: 0.9239 - val_accuracy: 0.7490 - 21s/epoch - 3ms/step\n",
            "Epoch 114/150\n",
            "7214/7214 - 18s - loss: 0.6707 - accuracy: 0.7737 - val_loss: 0.9274 - val_accuracy: 0.7494 - 18s/epoch - 3ms/step\n",
            "Epoch 115/150\n",
            "7214/7214 - 20s - loss: 0.6717 - accuracy: 0.7733 - val_loss: 0.8963 - val_accuracy: 0.7516 - 20s/epoch - 3ms/step\n",
            "Epoch 116/150\n",
            "7214/7214 - 20s - loss: 0.6682 - accuracy: 0.7737 - val_loss: 0.9323 - val_accuracy: 0.7512 - 20s/epoch - 3ms/step\n",
            "Epoch 117/150\n",
            "7214/7214 - 19s - loss: 0.6727 - accuracy: 0.7723 - val_loss: 0.8943 - val_accuracy: 0.7511 - 19s/epoch - 3ms/step\n",
            "Epoch 118/150\n",
            "7214/7214 - 18s - loss: 0.6731 - accuracy: 0.7727 - val_loss: 0.9204 - val_accuracy: 0.7535 - 18s/epoch - 3ms/step\n",
            "Epoch 119/150\n",
            "7214/7214 - 20s - loss: 0.6695 - accuracy: 0.7724 - val_loss: 0.9525 - val_accuracy: 0.7510 - 20s/epoch - 3ms/step\n",
            "Epoch 120/150\n",
            "7214/7214 - 19s - loss: 0.6702 - accuracy: 0.7734 - val_loss: 0.9323 - val_accuracy: 0.7493 - 19s/epoch - 3ms/step\n",
            "Epoch 121/150\n",
            "7214/7214 - 20s - loss: 0.6711 - accuracy: 0.7734 - val_loss: 0.9324 - val_accuracy: 0.7517 - 20s/epoch - 3ms/step\n",
            "Epoch 122/150\n",
            "7214/7214 - 18s - loss: 0.6703 - accuracy: 0.7730 - val_loss: 0.9570 - val_accuracy: 0.7518 - 18s/epoch - 2ms/step\n",
            "Epoch 123/150\n",
            "7214/7214 - 20s - loss: 0.6690 - accuracy: 0.7739 - val_loss: 0.9451 - val_accuracy: 0.7501 - 20s/epoch - 3ms/step\n",
            "Epoch 124/150\n",
            "7214/7214 - 20s - loss: 0.6712 - accuracy: 0.7735 - val_loss: 0.9472 - val_accuracy: 0.7512 - 20s/epoch - 3ms/step\n",
            "Epoch 125/150\n",
            "7214/7214 - 19s - loss: 0.6710 - accuracy: 0.7727 - val_loss: 0.9362 - val_accuracy: 0.7513 - 19s/epoch - 3ms/step\n",
            "Epoch 126/150\n",
            "7214/7214 - 19s - loss: 0.6697 - accuracy: 0.7732 - val_loss: 0.9075 - val_accuracy: 0.7516 - 19s/epoch - 3ms/step\n",
            "Epoch 127/150\n",
            "7214/7214 - 18s - loss: 0.6716 - accuracy: 0.7734 - val_loss: 0.9670 - val_accuracy: 0.7501 - 18s/epoch - 2ms/step\n",
            "Epoch 128/150\n",
            "7214/7214 - 18s - loss: 0.6695 - accuracy: 0.7736 - val_loss: 0.9891 - val_accuracy: 0.7486 - 18s/epoch - 2ms/step\n",
            "Epoch 129/150\n",
            "7214/7214 - 20s - loss: 0.6726 - accuracy: 0.7726 - val_loss: 0.9426 - val_accuracy: 0.7508 - 20s/epoch - 3ms/step\n",
            "Epoch 130/150\n",
            "7214/7214 - 18s - loss: 0.6719 - accuracy: 0.7738 - val_loss: 0.9566 - val_accuracy: 0.7522 - 18s/epoch - 2ms/step\n",
            "Epoch 131/150\n",
            "7214/7214 - 18s - loss: 0.6695 - accuracy: 0.7740 - val_loss: 0.9524 - val_accuracy: 0.7507 - 18s/epoch - 3ms/step\n",
            "Epoch 132/150\n",
            "7214/7214 - 21s - loss: 0.6732 - accuracy: 0.7742 - val_loss: 0.9657 - val_accuracy: 0.7530 - 21s/epoch - 3ms/step\n",
            "Epoch 133/150\n",
            "7214/7214 - 19s - loss: 0.6723 - accuracy: 0.7729 - val_loss: 0.9867 - val_accuracy: 0.7486 - 19s/epoch - 3ms/step\n",
            "Epoch 134/150\n",
            "7214/7214 - 19s - loss: 0.6710 - accuracy: 0.7746 - val_loss: 0.9892 - val_accuracy: 0.7537 - 19s/epoch - 3ms/step\n",
            "Epoch 135/150\n",
            "7214/7214 - 19s - loss: 0.6699 - accuracy: 0.7738 - val_loss: 0.9394 - val_accuracy: 0.7524 - 19s/epoch - 3ms/step\n",
            "Epoch 136/150\n",
            "7214/7214 - 20s - loss: 0.6724 - accuracy: 0.7731 - val_loss: 0.9729 - val_accuracy: 0.7519 - 20s/epoch - 3ms/step\n",
            "Epoch 137/150\n",
            "7214/7214 - 18s - loss: 0.6698 - accuracy: 0.7732 - val_loss: 0.9906 - val_accuracy: 0.7507 - 18s/epoch - 2ms/step\n",
            "Epoch 138/150\n",
            "7214/7214 - 17s - loss: 0.6713 - accuracy: 0.7742 - val_loss: 0.9829 - val_accuracy: 0.7506 - 17s/epoch - 2ms/step\n",
            "Epoch 139/150\n",
            "7214/7214 - 18s - loss: 0.6680 - accuracy: 0.7743 - val_loss: 0.9766 - val_accuracy: 0.7488 - 18s/epoch - 3ms/step\n",
            "Epoch 140/150\n",
            "7214/7214 - 20s - loss: 0.6734 - accuracy: 0.7733 - val_loss: 0.9829 - val_accuracy: 0.7526 - 20s/epoch - 3ms/step\n",
            "Epoch 141/150\n",
            "7214/7214 - 19s - loss: 0.6762 - accuracy: 0.7731 - val_loss: 1.0022 - val_accuracy: 0.7501 - 19s/epoch - 3ms/step\n",
            "Epoch 142/150\n",
            "7214/7214 - 21s - loss: 0.6720 - accuracy: 0.7736 - val_loss: 0.9734 - val_accuracy: 0.7510 - 21s/epoch - 3ms/step\n",
            "Epoch 143/150\n",
            "7214/7214 - 18s - loss: 0.6688 - accuracy: 0.7735 - val_loss: 0.9753 - val_accuracy: 0.7510 - 18s/epoch - 2ms/step\n",
            "Epoch 144/150\n",
            "7214/7214 - 19s - loss: 0.6725 - accuracy: 0.7738 - val_loss: 0.9786 - val_accuracy: 0.7515 - 19s/epoch - 3ms/step\n",
            "Epoch 145/150\n",
            "7214/7214 - 20s - loss: 0.6684 - accuracy: 0.7742 - val_loss: 0.9899 - val_accuracy: 0.7509 - 20s/epoch - 3ms/step\n",
            "Epoch 146/150\n",
            "7214/7214 - 20s - loss: 0.6703 - accuracy: 0.7733 - val_loss: 1.0040 - val_accuracy: 0.7518 - 20s/epoch - 3ms/step\n",
            "Epoch 147/150\n",
            "7214/7214 - 17s - loss: 0.6682 - accuracy: 0.7744 - val_loss: 0.9990 - val_accuracy: 0.7504 - 17s/epoch - 2ms/step\n",
            "Epoch 148/150\n",
            "7214/7214 - 17s - loss: 0.6711 - accuracy: 0.7734 - val_loss: 0.9942 - val_accuracy: 0.7526 - 17s/epoch - 2ms/step\n",
            "Epoch 149/150\n",
            "7214/7214 - 19s - loss: 0.6703 - accuracy: 0.7747 - val_loss: 1.0173 - val_accuracy: 0.7461 - 19s/epoch - 3ms/step\n",
            "Epoch 150/150\n",
            "7214/7214 - 19s - loss: 0.6714 - accuracy: 0.7739 - val_loss: 1.0311 - val_accuracy: 0.7503 - 19s/epoch - 3ms/step\n"
          ]
        }
      ]
    },
    {
      "cell_type": "code",
      "source": [
        "tf.keras.models.save_model(model,'/content/drive/My Drive/Thesis_data/ANN_Final_I')"
      ],
      "metadata": {
        "colab": {
          "base_uri": "https://localhost:8080/"
        },
        "id": "KpND0uELWNmh",
        "outputId": "bac72c74-0f9f-4a70-94e2-4537a6ed10c0"
      },
      "execution_count": 122,
      "outputs": [
        {
          "output_type": "stream",
          "name": "stderr",
          "text": [
            "WARNING:absl:Found untraced functions such as _update_step_xla while saving (showing 1 of 1). These functions will not be directly callable after loading.\n"
          ]
        }
      ]
    },
    {
      "cell_type": "code",
      "source": [
        "# Plot accuracy\n",
        "plt.plot(history.history['accuracy'])\n",
        "plt.plot(history.history['val_accuracy'])\n",
        "plt.title('Model Accuracy')\n",
        "plt.ylabel('Accuracy')\n",
        "plt.xlabel('Epoch')\n",
        "plt.legend(['Train', 'Validation'], loc='upper left')\n",
        "plt.show()\n",
        "\n",
        "# Plot loss\n",
        "plt.plot(history.history['loss'])\n",
        "plt.plot(history.history['val_loss'])\n",
        "plt.title('Model Loss')\n",
        "plt.ylabel('Loss')\n",
        "plt.xlabel('Epoch')\n",
        "plt.legend(['Train', 'Validation'], loc='upper left')\n",
        "plt.show()\n",
        "\n",
        "# Evaluate model on test data\n",
        "loss, accuracy = model.evaluate(X_test, y_test)\n",
        "print('Test Accuracy:', accuracy)\n",
        "print('Test Loss:', loss)"
      ],
      "metadata": {
        "colab": {
          "base_uri": "https://localhost:8080/",
          "height": 979
        },
        "id": "2fVPoBjxD4D5",
        "outputId": "08d07277-6d28-42ad-e54a-68b551159197"
      },
      "execution_count": 123,
      "outputs": [
        {
          "output_type": "display_data",
          "data": {
            "text/plain": [
              "<Figure size 640x480 with 1 Axes>"
            ],
            "image/png": "[encoded data removed]"
          },
          "metadata": {}
        },
        {
          "output_type": "display_data",
          "data": {
            "text/plain": [
              "<Figure size 640x480 with 1 Axes>"
            ],
            "image/png": "[encoded data removed]"
          },
          "metadata": {}
        },
        {
          "output_type": "stream",
          "name": "stdout",
          "text": [
            "752/752 [==============================] - 4s 5ms/step - loss: 0.9425 - accuracy: 0.7576\n",
            "Test Accuracy: 0.7575795650482178\n",
            "Test Loss: 0.9425193071365356\n"
          ]
        }
      ]
    },
    {
      "cell_type": "markdown",
      "source": [
        "# Use the trained model to make a prediction about a single state."
      ],
      "metadata": {
        "id": "DPsi7eWdejHh"
      }
    },
    {
      "cell_type": "code",
      "source": [
        "Predict = np.load(\"/content/drive/My Drive/Thesis_data/State1_integer.npy\", allow_pickle=True) #Sample data (same dimensions as the main dataset)\n",
        "X_predict = Predict[:, :-1]\n",
        "y_predict = Predict[:, -1]\n",
        "\n",
        "single_state  = (np.expand_dims(X_predict[50],0)) # Add it to a batch where it's the only member."
      ],
      "metadata": {
        "id": "AMLrH1pCD80K"
      },
      "execution_count": 277,
      "outputs": []
    },
    {
      "cell_type": "code",
      "source": [
        "print(X_predict[0].shape) #Intial shape of the state in the dataset\n",
        "print(single_state.shape) #Desired state for the predictions using the model\n",
        "single_predict = model.predict(single_state) #Predicting the output from the single state"
      ],
      "metadata": {
        "colab": {
          "base_uri": "https://localhost:8080/"
        },
        "id": "3XAciipxpQwS",
        "outputId": "abd8f3a6-15ed-4e98-f886-ea2e716d9c0b"
      },
      "execution_count": 278,
      "outputs": [
        {
          "output_type": "stream",
          "name": "stdout",
          "text": [
            "(169,)\n",
            "(1, 169)\n",
            "1/1 [==============================] - 0s 25ms/step\n"
          ]
        }
      ]
    },
    {
      "cell_type": "code",
      "source": [
        "index_single = np.argmax(single_predict) #Finding the label that has the highest confidence value\n",
        "final_action_integer_single = index_to_label[index_single] #Converting the obtained index to the label\n",
        "print(final_action_integer_single) #Print the action which is encoded to an integer"
      ],
      "metadata": {
        "colab": {
          "base_uri": "https://localhost:8080/"
        },
        "id": "qFMfzIUYqRDm",
        "outputId": "594717e4-d1fd-41ea-e771-16de32ad0de4"
      },
      "execution_count": 279,
      "outputs": [
        {
          "output_type": "stream",
          "name": "stdout",
          "text": [
            "24\n"
          ]
        }
      ]
    },
    {
      "cell_type": "code",
      "source": [
        "def integer_to_binary_array(integer_value, array_length=12):\n",
        "    \"\"\"\n",
        "    Convert an integer to a binary array of specified length.\n",
        "    Parameters:\n",
        "        integer_value (int): The integer value to be converted.\n",
        "        array_length (int): The desired length of the binary array.\n",
        "    Returns:\n",
        "        list: The binary array representing the integer value.\n",
        "    \"\"\"\n",
        "    binary_string = format(integer_value, 'b')  # Convert integer to binary string\n",
        "    binary_array = [int(bit) for bit in binary_string.zfill(array_length)]  # Pad with leading zeros if needed\n",
        "    return binary_array"
      ],
      "metadata": {
        "id": "UA486WXVeBfL"
      },
      "execution_count": 280,
      "outputs": []
    },
    {
      "cell_type": "code",
      "source": [
        "binary_data = integer_to_binary_array(final_action_integer_single) #Converting the action integer to the binary array which acts as the actual input to the game\n",
        "print(binary_data)"
      ],
      "metadata": {
        "colab": {
          "base_uri": "https://localhost:8080/"
        },
        "id": "HR6_N4DKYXaD",
        "outputId": "20170e17-689b-44c7-f599-ed00e929f583"
      },
      "execution_count": 281,
      "outputs": [
        {
          "output_type": "stream",
          "name": "stdout",
          "text": [
            "[0, 0, 0, 0, 0, 0, 0, 1, 1, 0, 0, 0]\n"
          ]
        }
      ]
    }
  ]
}